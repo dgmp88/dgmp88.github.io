{
 "cells": [
  {
   "cell_type": "code",
   "execution_count": 2,
   "metadata": {},
   "outputs": [
    {
     "name": "stderr",
     "output_type": "stream",
     "text": [
      "/Users/george/miniconda3/lib/python3.6/site-packages/h5py/__init__.py:36: FutureWarning: Conversion of the second argument of issubdtype from `float` to `np.floating` is deprecated. In future, it will be treated as `np.float64 == np.dtype(float).type`.\n",
      "  from ._conv import register_converters as _register_converters\n"
     ]
    }
   ],
   "source": [
    "from dataset_fun.h5_reader import read\n",
    "from dataset_fun.display import show_images\n",
    "from sklearn.cluster import MiniBatchKMeans, KMeans\n",
    "import numpy as np\n",
    "from scipy.spatial.distance import cdist\n",
    "\n",
    "\n",
    "meta, data = read('/data/uniqueusa/rugscom.h5', return_attributes=True)\n",
    "n_units = 15\n",
    "n_runs = 10"
   ]
  },
  {
   "cell_type": "markdown",
   "metadata": {},
   "source": [
    "# Random images"
   ]
  },
  {
   "cell_type": "code",
   "execution_count": 3,
   "metadata": {},
   "outputs": [],
   "source": [
    "images = []\n",
    "\n",
    "for i in range(n_runs):\n",
    "    images.extend(np.random.choice(meta.imageURL, size=n_units))\n",
    "\n",
    "html = show_images(images, cols=n_units, return_html=True)\n",
    "\n",
    "with open('random.html', 'w') as f:\n",
    "    f.write(html)"
   ]
  },
  {
   "cell_type": "markdown",
   "metadata": {},
   "source": [
    "# Clustering approach"
   ]
  },
  {
   "cell_type": "code",
   "execution_count": 4,
   "metadata": {},
   "outputs": [],
   "source": [
    "images = []\n",
    "\n",
    "for i in range(n_runs):\n",
    "    # Create the centroids\n",
    "    mb = MiniBatchKMeans(n_clusters=n_units)\n",
    "    mb.fit(data)\n",
    "    \n",
    "    # Find the nearest neighbour of the centroids\n",
    "    for i in range(n_units):\n",
    "        centroid = mb.cluster_centers_[[i]]\n",
    "\n",
    "        dists = cdist(centroid, data).ravel()\n",
    "\n",
    "        nn = dists.argmin() \n",
    "        images.append(meta.imageURL.iloc[nn])\n",
    "    \n",
    "html = show_images(images, cols=n_units, return_html=True)\n",
    "\n",
    "\n",
    "with open('clusters.html', 'w') as f:\n",
    "    f.write(html)"
   ]
  },
  {
   "cell_type": "code",
   "execution_count": 9,
   "metadata": {},
   "outputs": [
    {
     "data": {
      "text/html": [
       "<div style=\"display: flex;\"><div style=\"width: 9.9%;\"><img style=\"width: 100%\" src=\"https://rugimg.com/600_600_1_0_midhigh_s_20_prog_10896572_main.jpg\" title=\"\"></div><div style=\"width: 9.9%;\"><img style=\"width: 100%\" src=\"https://rugimg.com/600_600_1_0_midhigh_s_20_prog_2447627_main.jpg\" title=\"\"></div><div style=\"width: 9.9%;\"><img style=\"width: 100%\" src=\"https://rugimg.com/600_600_1_0_midhigh_s_20_prog_3141740_main.jpg\" title=\"\"></div><div style=\"width: 9.9%;\"><img style=\"width: 100%\" src=\"https://rugimg.com/600_600_1_0_midhigh_s_20_prog_10901829_main.jpg\" title=\"\"></div><div style=\"width: 9.9%;\"><img style=\"width: 100%\" src=\"https://rugimg.com/600_600_1_0_midhigh_s_20_prog_2453775_main.jpg\" title=\"\"></div><div style=\"width: 9.9%;\"><img style=\"width: 100%\" src=\"https://rugimg.com/600_600_1_0_midhigh_s_20_prog_3120507_main.jpg\" title=\"\"></div><div style=\"width: 9.9%;\"><img style=\"width: 100%\" src=\"https://rugimg.com/600_600_1_0_midhigh_s_20_prog_2416874_main.jpg\" title=\"\"></div><div style=\"width: 9.9%;\"><img style=\"width: 100%\" src=\"https://rugimg.com/600_600_1_0_midhigh_s_20_prog_2398120_main.jpg\" title=\"\"></div><div style=\"width: 9.9%;\"><img style=\"width: 100%\" src=\"https://rugimg.com/600_600_1_0_midhigh_s_20_prog_3141532_main.jpg\" title=\"\"></div><div style=\"width: 9.9%;\"><img style=\"width: 100%\" src=\"https://rugimg.com/600_600_1_0_midhigh_s_20_prog_3116416_main.jpg\" title=\"\"></div></div><div style=\"display: flex;\"><div style=\"width: 9.9%;\"><img style=\"width: 100%\" src=\"https://rugimg.com/600_600_1_0_midhigh_s_20_prog_2427724_main.jpg\" title=\"\"></div><div style=\"width: 9.9%;\"><img style=\"width: 100%\" src=\"https://rugimg.com/600_600_1_0_midhigh_s_20_prog_2359977_main.jpg\" title=\"\"></div><div style=\"width: 9.9%;\"><img style=\"width: 100%\" src=\"https://rugimg.com/600_600_1_0_midhigh_s_20_prog_2305209_main.jpg\" title=\"\"></div><div style=\"width: 9.9%;\"><img style=\"width: 100%\" src=\"https://rugimg.com/600_600_1_0_midhigh_s_20_prog_2385097_main.jpg\" title=\"\"></div><div style=\"width: 9.9%;\"><img style=\"width: 100%\" src=\"https://rugimg.com/600_600_1_0_midhigh_s_20_prog_10911721_main.jpg\" title=\"\"></div><div style=\"width: 9.9%;\"><img style=\"width: 100%\" src=\"https://rugimg.com/600_600_1_0_midhigh_s_20_prog_2352683_main.jpg\" title=\"\"></div><div style=\"width: 9.9%;\"><img style=\"width: 100%\" src=\"https://rugimg.com/600_600_1_0_midhigh_s_20_prog_2379821_main.jpg\" title=\"\"></div><div style=\"width: 9.9%;\"><img style=\"width: 100%\" src=\"https://rugimg.com/600_600_1_0_midhigh_s_20_prog_2450198_main.jpg\" title=\"\"></div><div style=\"width: 9.9%;\"><img style=\"width: 100%\" src=\"https://rugimg.com/600_600_1_0_midhigh_s_20_prog_2191678_main.jpg\" title=\"\"></div><div style=\"width: 9.9%;\"><img style=\"width: 100%\" src=\"https://rugimg.com/600_600_1_0_midhigh_s_20_prog_2460287_main.jpg\" title=\"\"></div></div><div style=\"display: flex;\"><div style=\"width: 9.9%;\"><img style=\"width: 100%\" src=\"https://rugimg.com/600_600_1_0_midhigh_s_20_prog_2392888_main.jpg\" title=\"\"></div><div style=\"width: 9.9%;\"><img style=\"width: 100%\" src=\"https://rugimg.com/600_600_1_0_midhigh_s_20_prog_2457198_main.jpg\" title=\"\"></div><div style=\"width: 9.9%;\"><img style=\"width: 100%\" src=\"https://rugimg.com/600_600_1_0_midhigh_s_20_prog_2383204_main.jpg\" title=\"\"></div><div style=\"width: 9.9%;\"><img style=\"width: 100%\" src=\"https://rugimg.com/600_600_1_0_midhigh_s_20_prog_2411905_main.jpg\" title=\"\"></div><div style=\"width: 9.9%;\"><img style=\"width: 100%\" src=\"https://rugimg.com/600_600_1_0_midhigh_s_20_prog_2388742_main.jpg\" title=\"\"></div><div style=\"width: 9.9%;\"><img style=\"width: 100%\" src=\"https://rugimg.com/600_600_1_0_midhigh_s_20_prog_2327077_main.jpg\" title=\"\"></div><div style=\"width: 9.9%;\"><img style=\"width: 100%\" src=\"https://rugimg.com/600_600_1_0_midhigh_s_20_prog_2162087_main.jpg\" title=\"\"></div><div style=\"width: 9.9%;\"><img style=\"width: 100%\" src=\"https://rugimg.com/600_600_1_0_midhigh_s_20_prog_2193413_main.jpg\" title=\"\"></div><div style=\"width: 9.9%;\"><img style=\"width: 100%\" src=\"https://rugimg.com/600_600_1_0_midhigh_s_20_prog_2453264_main.jpg\" title=\"\"></div><div style=\"width: 9.9%;\"><img style=\"width: 100%\" src=\"https://rugimg.com/600_600_1_0_midhigh_s_20_prog_2433400_main.jpg\" title=\"\"></div></div><div style=\"display: flex;\"><div style=\"width: 9.9%;\"><img style=\"width: 100%\" src=\"https://rugimg.com/600_600_1_0_midhigh_s_20_prog_2338546_main.jpg\" title=\"\"></div><div style=\"width: 9.9%;\"><img style=\"width: 100%\" src=\"https://rugimg.com/600_600_1_0_midhigh_s_20_prog_2182811_main.jpg\" title=\"\"></div><div style=\"width: 9.9%;\"><img style=\"width: 100%\" src=\"https://rugimg.com/600_600_1_0_midhigh_s_20_prog_2406401_main.jpg\" title=\"\"></div><div style=\"width: 9.9%;\"><img style=\"width: 100%\" src=\"https://rugimg.com/600_600_1_0_midhigh_s_20_prog_2319288_main.jpg\" title=\"\"></div><div style=\"width: 9.9%;\"><img style=\"width: 100%\" src=\"https://rugimg.com/600_600_1_0_midhigh_s_20_prog_3143135_main.jpg\" title=\"\"></div><div style=\"width: 9.9%;\"><img style=\"width: 100%\" src=\"https://rugimg.com/600_600_1_0_midhigh_s_20_prog_3144276_main.jpg\" title=\"\"></div><div style=\"width: 9.9%;\"><img style=\"width: 100%\" src=\"https://rugimg.com/600_600_1_0_midhigh_s_20_prog_2417618_main.jpg\" title=\"\"></div><div style=\"width: 9.9%;\"><img style=\"width: 100%\" src=\"https://rugimg.com/600_600_1_0_midhigh_s_20_prog_2315726_main.jpg\" title=\"\"></div><div style=\"width: 9.9%;\"><img style=\"width: 100%\" src=\"https://rugimg.com/600_600_1_0_midhigh_s_20_prog_2429768_main.jpg\" title=\"\"></div><div style=\"width: 9.9%;\"><img style=\"width: 100%\" src=\"https://rugimg.com/600_600_1_0_midhigh_s_20_prog_2365925_main.jpg\" title=\"\"></div></div><div style=\"display: flex;\"><div style=\"width: 9.9%;\"><img style=\"width: 100%\" src=\"https://rugimg.com/600_600_1_0_midhigh_s_20_prog_2373839_main.jpg\" title=\"\"></div><div style=\"width: 9.9%;\"><img style=\"width: 100%\" src=\"https://rugimg.com/600_600_1_0_midhigh_s_20_prog_2322633_main.jpg\" title=\"\"></div><div style=\"width: 9.9%;\"><img style=\"width: 100%\" src=\"https://rugimg.com/600_600_1_0_midhigh_s_20_prog_3124685_main.jpg\" title=\"\"></div><div style=\"width: 9.9%;\"><img style=\"width: 100%\" src=\"https://rugimg.com/600_600_1_0_midhigh_s_20_prog_2429326_main.jpg\" title=\"\"></div><div style=\"width: 9.9%;\"><img style=\"width: 100%\" src=\"https://rugimg.com/600_600_1_0_midhigh_s_20_prog_2425302_main.jpg\" title=\"\"></div><div style=\"width: 9.9%;\"><img style=\"width: 100%\" src=\"https://rugimg.com/600_600_1_0_midhigh_s_20_prog_2375116_main.jpg\" title=\"\"></div><div style=\"width: 9.9%;\"><img style=\"width: 100%\" src=\"https://rugimg.com/600_600_1_0_midhigh_s_20_prog_2159754_main.jpg\" title=\"\"></div><div style=\"width: 9.9%;\"><img style=\"width: 100%\" src=\"https://rugimg.com/600_600_1_0_midhigh_s_20_prog_2451721_main.jpg\" title=\"\"></div></div>"
      ],
      "text/plain": [
       "<IPython.core.display.HTML object>"
      ]
     },
     "metadata": {},
     "output_type": "display_data"
    }
   ],
   "source": [
    "images = []\n",
    "\n",
    "for i in range(1):\n",
    "    # Create the centroids\n",
    "    mb = MiniBatchKMeans(n_clusters=48)\n",
    "    mb.fit(data)\n",
    "    \n",
    "    # Find the nearest neighbour of the centroids\n",
    "    for i in range(48):\n",
    "        centroid = mb.cluster_centers_[[i]]\n",
    "\n",
    "        dists = cdist(centroid, data).ravel()\n",
    "\n",
    "        nn = dists.argmin() \n",
    "        images.append(meta.imageURL.iloc[nn])\n",
    "    \n",
    "html = show_images(images, cols=10)"
   ]
  },
  {
   "cell_type": "code",
   "execution_count": 10,
   "metadata": {},
   "outputs": [
    {
     "name": "stdout",
     "output_type": "stream",
     "text": [
      "2.87 s ± 306 ms per loop (mean ± std. dev. of 7 runs, 1 loop each)\n"
     ]
    }
   ],
   "source": [
    "def find_centroids(n_units):\n",
    "    images = []\n",
    "\n",
    "    # Create the centroids\n",
    "    mb = MiniBatchKMeans(n_clusters=48)\n",
    "    mb.fit(data)\n",
    "\n",
    "    # Find the nearest neighbour of the centroids\n",
    "    for i in range(48):\n",
    "        centroid = mb.cluster_centers_[[i]]\n",
    "\n",
    "        dists = cdist(centroid, data).ravel()\n",
    "\n",
    "        nn = dists.argmin() \n",
    "        images.append(meta.imageURL.iloc[nn])\n",
    "\n",
    "%timeit find_centroids(48)"
   ]
  },
  {
   "cell_type": "code",
   "execution_count": null,
   "metadata": {},
   "outputs": [],
   "source": [
    "def find_centroids(n_units):\n",
    "    images = []\n",
    "    \n",
    "    units = np.random\n",
    "\n",
    "    # Create the centroids\n",
    "    mb = MiniBatchKMeans(n_clusters=48)\n",
    "    mb.fit(data)\n",
    "\n",
    "    # Find the nearest neighbour of the centroids\n",
    "    for i in range(48):\n",
    "        centroid = mb.cluster_centers_[[i]]\n",
    "\n",
    "        dists = cdist(centroid, data).ravel()\n",
    "\n",
    "        nn = dists.argmin() \n",
    "        images.append(meta.imageURL.iloc[nn])\n",
    "\n",
    "%timeit find_centroids(48)"
   ]
  },
  {
   "cell_type": "code",
   "execution_count": 16,
   "metadata": {},
   "outputs": [
    {
     "name": "stdout",
     "output_type": "stream",
     "text": [
      "1.13 ms ± 193 µs per loop (mean ± std. dev. of 7 runs, 1000 loops each)\n"
     ]
    }
   ],
   "source": [
    "%timeit np.random.choice(np.arange(800000), size=100)"
   ]
  },
  {
   "cell_type": "code",
   "execution_count": null,
   "metadata": {},
   "outputs": [],
   "source": []
  }
 ],
 "metadata": {
  "kernelspec": {
   "display_name": "base",
   "language": "python",
   "name": "base"
  },
  "language_info": {
   "codemirror_mode": {
    "name": "ipython",
    "version": 3
   },
   "file_extension": ".py",
   "mimetype": "text/x-python",
   "name": "python",
   "nbconvert_exporter": "python",
   "pygments_lexer": "ipython3",
   "version": "3.6.5"
  }
 },
 "nbformat": 4,
 "nbformat_minor": 2
}
