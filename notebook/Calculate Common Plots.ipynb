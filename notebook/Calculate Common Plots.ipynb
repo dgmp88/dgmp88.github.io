{
 "cells": [
  {
   "cell_type": "code",
   "execution_count": 10,
   "metadata": {},
   "outputs": [],
   "source": [
    "import re\n",
    "import pandas as pd\n",
    "\n",
    "data = []\n",
    "\n",
    "with open('common iplt.txt') as f:\n",
    "    for line in f.readlines():\n",
    "        data.extend(re.findall('(plt.\\w+)', line))\n",
    "    \n",
    "data = pd.DataFrame({'function': data})"
   ]
  },
  {
   "cell_type": "code",
   "execution_count": 11,
   "metadata": {},
   "outputs": [
    {
     "data": {
      "text/plain": [
       "plt.subplot            209\n",
       "plt.title              179\n",
       "plt.plot               168\n",
       "plt.xlabel             109\n",
       "plt.ylabel              86\n",
       "plt.figure              79\n",
       "plt.hist                72\n",
       "plt.xticks              43\n",
       "plt.imshow              40\n",
       "plt.legend              38\n",
       "plt.ylim                34\n",
       "plt.axes                29\n",
       "plt.tight_layout        23\n",
       "plt.bar                 22\n",
       "plt.vlines              12\n",
       "plt.gca                 11\n",
       "plt.xlim                10\n",
       "plt.boxplot              9\n",
       "plt.scatter              8\n",
       "plt.rcParams             7\n",
       "plt.yticks               6\n",
       "plt.yscale               6\n",
       "plt.errorbar             4\n",
       "plt.subplots_adjust      4\n",
       "plt.show                 3\n",
       "plt.colorbar             2\n",
       "plt.set_cmap             2\n",
       "plt.get_cmap             2\n",
       "plt.subplots             2\n",
       "plt.gcf                  2\n",
       "plt.ioff                 1\n",
       "Name: function, dtype: int64"
      ]
     },
     "execution_count": 11,
     "metadata": {},
     "output_type": "execute_result"
    }
   ],
   "source": [
    "data.function.value_counts()"
   ]
  },
  {
   "cell_type": "code",
   "execution_count": null,
   "metadata": {},
   "outputs": [],
   "source": []
  }
 ],
 "metadata": {
  "kernelspec": {
   "display_name": "base",
   "language": "python",
   "name": "base"
  },
  "language_info": {
   "codemirror_mode": {
    "name": "ipython",
    "version": 3
   },
   "file_extension": ".py",
   "mimetype": "text/x-python",
   "name": "python",
   "nbconvert_exporter": "python",
   "pygments_lexer": "ipython3",
   "version": "3.6.5"
  }
 },
 "nbformat": 4,
 "nbformat_minor": 2
}
